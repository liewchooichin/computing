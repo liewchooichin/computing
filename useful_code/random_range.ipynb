{
 "cells": [
  {
   "cell_type": "markdown",
   "id": "0ecef4c5",
   "metadata": {},
   "source": [
    "To generate a random floating-point number between a specified minimum and maximum value in Python, the random.uniform() function from the random module is used.\n",
    "\n",
    "Here's how to use it:\n",
    "\n",
    "Python\n",
    "\n",
    "import random\n",
    "\n",
    "min_value = 10.5\n",
    "max_value = 20.5\n",
    "\n",
    "random_float = random.uniform(min_value, max_value)\n",
    "\n",
    "print(random_float)\n",
    "\n",
    "In this example, random.uniform(min_value, max_value) returns a random float N such that min_value <= N <= max_value. This means the generated number will be greater than or equal to min_value and less than or equal to max_value"
   ]
  },
  {
   "cell_type": "code",
   "execution_count": 1,
   "id": "31fa875e",
   "metadata": {},
   "outputs": [
    {
     "name": "stdout",
     "output_type": "stream",
     "text": [
      "14.383477162361212\n",
      "[11.585012995512045, 19.05730956395861, 18.443932512802803, 19.187466111272393, 11.485261023253557, 12.513370114447806, 11.635094344880276, 20.077892602470875, 17.443335796027057, 14.981339466607881]\n"
     ]
    }
   ],
   "source": [
    "import random\n",
    "\n",
    "min_value = 10.5\n",
    "max_value = 20.5\n",
    "random_float = random.uniform(min_value, max_value)\n",
    "print(random_float)\n",
    "random_list = [random.uniform(min_value, max_value) for i in range(10)]\n",
    "print(random_list)"
   ]
  },
  {
   "cell_type": "code",
   "execution_count": null,
   "id": "0367d8d9",
   "metadata": {},
   "outputs": [],
   "source": []
  }
 ],
 "metadata": {
  "kernelspec": {
   "display_name": "Python 3",
   "language": "python",
   "name": "python3"
  },
  "language_info": {
   "codemirror_mode": {
    "name": "ipython",
    "version": 3
   },
   "file_extension": ".py",
   "mimetype": "text/x-python",
   "name": "python",
   "nbconvert_exporter": "python",
   "pygments_lexer": "ipython3",
   "version": "3.11.13"
  }
 },
 "nbformat": 4,
 "nbformat_minor": 5
}
