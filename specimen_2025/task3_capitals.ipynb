{
 "cells": [
  {
   "cell_type": "markdown",
   "id": "d1aad336",
   "metadata": {},
   "source": [
    "# Task 3"
   ]
  },
  {
   "cell_type": "code",
   "execution_count": 18,
   "id": "44959d37",
   "metadata": {},
   "outputs": [],
   "source": [
    "capital_cities = {\n",
    "    'singapore':'Singapore',\n",
    "    'japan':'Tokyo',\n",
    "    'australia':'Canberra',\n",
    "    'england':'London',\n",
    "    'france':'Paris',\n",
    "    'germany':'Berlin'\n",
    "}"
   ]
  },
  {
   "cell_type": "markdown",
   "id": "01923ad5",
   "metadata": {},
   "source": [
    "# Task 3.1"
   ]
  },
  {
   "cell_type": "code",
   "execution_count": null,
   "id": "f37c4d94",
   "metadata": {},
   "outputs": [
    {
     "name": "stdout",
     "output_type": "stream",
     "text": [
      "France: Paris\n"
     ]
    }
   ],
   "source": [
    "# Task 3.1\n",
    "# converts the input for country to lowercase\n",
    "# searaches the dict for the country \n",
    "# output the capitals of that country\n",
    "# menu:\n",
    "# 1. List the capital of a country\n",
    "# 2. Remove a country\n",
    "# 3. Add a country\n",
    "\n",
    "menu = f\"Please enter the menu 1, 2, 3, or \\'Q\\' to quit.\\n\" \\\n",
    "    + f\"1. List the capital of a country\\n\" \\\n",
    "    + f\"2. Remove a country\\n\" \\\n",
    "    + f\"3. Add a country\\n\" \\\n",
    "    + f\"4. Quit\\n\" \\\n",
    "    + f\"List of countries: {capital_cities.keys()}\"\n",
    "#print(menu)\n",
    "menu_choice = input(menu).lower()\n",
    "\n",
    "while menu_choice not in \"q4\":\n",
    "    if menu_choice == \"1\":\n",
    "        country = input(\"Enter the name of a country: \").lower()\n",
    "        # get the key country\n",
    "        capital = capital_cities.get(country, \"Not in the list of capital cities.\")\n",
    "        # print the output\n",
    "        print(f\"{country.capitalize()}: {capital}\")\n",
    "    # quit\n",
    "    if menu_choice == \"4\":\n",
    "        break\n",
    "    # ask for menu choice again\n",
    "    menu_choice = input(menu)\n",
    "\n"
   ]
  },
  {
   "cell_type": "markdown",
   "id": "29d50379",
   "metadata": {},
   "source": [
    "# Task 3.2"
   ]
  },
  {
   "cell_type": "code",
   "execution_count": 24,
   "id": "609403c6",
   "metadata": {},
   "outputs": [
    {
     "name": "stdout",
     "output_type": "stream",
     "text": [
      "England: London\n"
     ]
    }
   ],
   "source": [
    "# Task 3.2\n",
    "# remove a country\n",
    "menu = f\"Please enter the menu 1, 2, 3, or \\'Q\\' to quit.\\n\" \\\n",
    "    + f\"1. List the capital of a country\\n\" \\\n",
    "    + f\"2. Remove a country\\n\" \\\n",
    "    + f\"3. Add a country\\n\" \\\n",
    "    + f\"4. Quit\\n\" \\\n",
    "    + f\"List of countries: {capital_cities.keys()}\"\n",
    "#print(menu)\n",
    "menu_choice = input(menu).lower()\n",
    "\n",
    "while menu_choice not in \"q4\":\n",
    "    # list capital\n",
    "    if menu_choice == \"1\":\n",
    "        country = input(\"Enter the name of a country: \").lower()\n",
    "        # get the key country\n",
    "        capital = capital_cities.get(country, \"Not in the list of capital cities.\")\n",
    "        # print the output\n",
    "        print(f\"{country.capitalize()}: {capital}\")\n",
    "    # remove a country\n",
    "    if menu_choice == \"2\":\n",
    "        remove = input(\"Would you like to remove any of the entries? (Y or N): \").lower()\n",
    "        if remove in \"yY\":\n",
    "            # remove the country\n",
    "            remove_country = input(\"Name of the country to remove: \").lower()\n",
    "            remove_capital = capital_cities.pop(remove_country, \"Not in the list of capital cities.\")\n",
    "            # print the result\n",
    "            print(f\"{remove_country}:{remove_capital} is removed\")\n",
    "    # quit\n",
    "    if menu_choice == \"4\":\n",
    "        break\n",
    "    # ask for menu choice again\n",
    "    menu_choice = input(menu)\n"
   ]
  },
  {
   "cell_type": "markdown",
   "id": "78c18ab2",
   "metadata": {},
   "source": [
    "# Task 3.3"
   ]
  },
  {
   "cell_type": "code",
   "execution_count": 28,
   "id": "714bb593",
   "metadata": {},
   "outputs": [
    {
     "name": "stdout",
     "output_type": "stream",
     "text": [
      "ss: Ss_capital is added to the list\n",
      "List of countries:\n",
      "singapore:Singapore\n",
      "australia:Canberra\n",
      "england:London\n",
      "mm:Mm_capital\n",
      "we:We_capital\n",
      "po:Po_capital\n",
      "pp:Pp_ll\n",
      "ss:Ss_capital\n"
     ]
    }
   ],
   "source": [
    "# Task 3.3\n",
    "# remove a country\n",
    "# menu:\n",
    "# 1. List the capital of a country\n",
    "# 2. Remove a country\n",
    "\n",
    "# Task 3.2\n",
    "# remove a country\n",
    "menu = f\"Please enter the menu 1, 2, 3, or \\'Q\\' to quit.\\n\" \\\n",
    "    + f\"1. List the capital of a country\\n\" \\\n",
    "    + f\"2. Remove a country\\n\" \\\n",
    "    + f\"3. Add a country\\n\" \\\n",
    "    + f\"4. Quit\\n\" \\\n",
    "    + f\"List of countries: {capital_cities.keys()}\"\n",
    "#print(menu)\n",
    "menu_choice = input(menu).lower()\n",
    "\n",
    "while menu_choice not in \"q4\":\n",
    "    # list capital\n",
    "    if menu_choice == \"1\":\n",
    "        country = input(\"Enter the name of a country: \").lower()\n",
    "        # get the key country\n",
    "        capital = capital_cities.get(country, \"Not in the list of capital cities.\")\n",
    "        # print the output\n",
    "        print(f\"{country.capitalize()}: {capital}\")\n",
    "    # remove a country\n",
    "    if menu_choice == \"2\":\n",
    "        remove = input(\"Would you like to remove any of the entries? (Y or N): \").lower()\n",
    "        if remove in \"yY\":\n",
    "            # remove the country\n",
    "            remove_country = input(\"Name of the country to remove: \").lower()\n",
    "            remove_capital = capital_cities.pop(remove_country, \"Not in the list of capital cities.\")\n",
    "            # print the result\n",
    "            print(f\"{remove_country}:{remove_capital} is removed\")\n",
    "    \n",
    "    # add a country\n",
    "    if menu_choice == \"3\":\n",
    "        add = input(\"Would you like to add a new entry? (Y or N): \").lower()\n",
    "        if add in \"yY\":\n",
    "            # add a country\n",
    "            add_country = input(\"Name of country to add: \").lower()\n",
    "            add_capital = input(\"Capital of this country: \").capitalize()\n",
    "            # check if the country exist or not\n",
    "            if add_country in capital_cities.keys():\n",
    "                print(f\"{add_country}: {capital_cities[add_country]} already exists\")\n",
    "            else:\n",
    "                # add to the dict\n",
    "                capital_cities[add_country] = add_capital\n",
    "                print(f\"{add_country}: {capital_cities[add_country]} is added to the list\")\n",
    "                print(\"List of countries:\")\n",
    "                for k, v in capital_cities.items():\n",
    "                    print(f\"{k}:{v}\")\n",
    "\n",
    "    # quit\n",
    "    if menu_choice == \"4\":\n",
    "        break\n",
    "    # ask for menu choice again\n",
    "    menu_choice = input(menu)\n",
    "\n"
   ]
  },
  {
   "cell_type": "code",
   "execution_count": null,
   "id": "a5f07929",
   "metadata": {},
   "outputs": [],
   "source": []
  }
 ],
 "metadata": {
  "kernelspec": {
   "display_name": "Python 3",
   "language": "python",
   "name": "python3"
  },
  "language_info": {
   "codemirror_mode": {
    "name": "ipython",
    "version": 3
   },
   "file_extension": ".py",
   "mimetype": "text/x-python",
   "name": "python",
   "nbconvert_exporter": "python",
   "pygments_lexer": "ipython3",
   "version": "3.11.13"
  }
 },
 "nbformat": 4,
 "nbformat_minor": 5
}
