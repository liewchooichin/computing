{
 "cells": [
  {
   "cell_type": "markdown",
   "id": "b590edc9",
   "metadata": {},
   "source": [
    "# Task 5\n",
    "\n",
    "Ceasar cipher"
   ]
  },
  {
   "cell_type": "code",
   "execution_count": 1,
   "id": "ecb577a9",
   "metadata": {},
   "outputs": [
    {
     "name": "stdout",
     "output_type": "stream",
     "text": [
      "['a', 'b', 'c', 'd', 'e', 'f', 'g', 'h', 'i', 'j', 'k', 'l', 'm', 'n', 'o', 'p', 'q', 'r', 's', 't', 'u', 'v', 'w', 'x', 'y', 'z']\n",
      "26\n",
      "0\n",
      "b\n"
     ]
    }
   ],
   "source": [
    "# the index is from 0 to 26+1\n",
    "letters = [chr(x) for x in range(ord('a'), ord('z')+1) ]\n",
    "print(letters)\n",
    "print(len(letters))  # 26\n",
    "print(letters.index('a'))  # 0\n",
    "next_index = letters.index('a') + 1\n",
    "print(letters[next_index])  # b"
   ]
  },
  {
   "cell_type": "code",
   "execution_count": 2,
   "id": "721a50c5",
   "metadata": {},
   "outputs": [
    {
     "name": "stdout",
     "output_type": "stream",
     "text": [
      "[97, 98, 99, 100, 101, 102, 103, 104, 105, 106, 107, 108, 109, 110, 111, 112, 113, 114, 115, 116, 117, 118, 119, 120, 121, 122]\n",
      "26\n"
     ]
    }
   ],
   "source": [
    "# the index is from 0 to 26+1\n",
    "letters_code = [x for x in range(ord('a'), ord('z')+1) ]\n",
    "print(letters_code)\n",
    "print(len(letters_code))"
   ]
  },
  {
   "cell_type": "markdown",
   "id": "3a012d2e",
   "metadata": {},
   "source": [
    "# Method 1: shift_right()\n",
    "\n",
    "This is complicated to use in exam."
   ]
  },
  {
   "cell_type": "code",
   "execution_count": null,
   "id": "ca68edcf",
   "metadata": {},
   "outputs": [],
   "source": [
    "# Method 1\n",
    "# Not used\n",
    "# Task 5.1\n",
    "# This function only takes letters\n",
    "# This function should ignore all other characters.\n",
    "# shift character to the right by one position\n",
    "# a to b, b to c, ...\n",
    "def shift_right_1(char_user):\n",
    "    # a to b, b to c, ..., z to a\n",
    "    ch_value = 0\n",
    "    ch_index = 0\n",
    "    shifted = ''\n",
    "    # Only convert lowercase character\n",
    "    # get the ascii value of the character\n",
    "    ch_value = ord(char_user)\n",
    "    # valid characters\n",
    "    # from 'a' to 'y'\n",
    "    if (ch_value >= 97) and (ch_value <= 121):\n",
    "        # a = 97\n",
    "        # z = 122\n",
    "        # a: (97 - 97 = 0) mod 26 = 0\n",
    "        # z: (122 - 97 = 25) mod 26 = 25\n",
    "        # { (the next char after z): (123 - 97 = 26) mod 26 = 0\n",
    "        ch_index = abs(ch_value - 97) % 26\n",
    "        # index is from 0 to 25\n",
    "        #print(ch_index)\n",
    "        # shift to the right by 1\n",
    "        shifted = chr(97 + ch_index + 1)\n",
    "    elif ch_value == 122:\n",
    "        # letter 'z'\n",
    "        shifted = 'a' # this is 'a'\n",
    "    else:\n",
    "       # ignore other characters, do not make any shift\n",
    "       shifted = chr(ch_value) # unchanged from original\n",
    "\n",
    "    return shifted"
   ]
  },
  {
   "cell_type": "code",
   "execution_count": 4,
   "id": "5049b53c",
   "metadata": {},
   "outputs": [
    {
     "name": "stdout",
     "output_type": "stream",
     "text": [
      "a: b\n",
      "H: H\n",
      "x: y\n",
      "y: z\n",
      "z: a\n",
      "1: 1\n",
      "!: !\n"
     ]
    }
   ],
   "source": [
    "# test\n",
    "print(f\"a: {shift_right_1('a')}\")\n",
    "print(f\"H: {shift_right_1('H')}\")\n",
    "print(f\"x: {shift_right_1('x')}\")\n",
    "print(f\"y: {shift_right_1('y')}\")\n",
    "print(f\"z: {shift_right_1('z')}\")\n",
    "print(f\"1: {shift_right_1('1')}\")\n",
    "print(f\"!: {shift_right_1('!')}\")\n",
    "\n"
   ]
  },
  {
   "cell_type": "code",
   "execution_count": 5,
   "id": "31511c0d",
   "metadata": {},
   "outputs": [
    {
     "name": "stdout",
     "output_type": "stream",
     "text": [
      "Original message: a\n",
      "['b', 'c', 'd', 'e', 'f', 'g', 'h', 'i', 'j', 'k', 'l', 'm', 'n', 'o', 'p', 'q', 'r', 's', 't', 'u', 'v', 'w', 'x', 'y', 'z', 'a', 'b', 'c', 'd', 'e']\n"
     ]
    }
   ],
   "source": [
    "# Test: message is 'a'\n",
    "# Shift 30 times\n",
    "msg = 'a' \n",
    "print(f\"Original message: {msg}\")\n",
    "msg_enc = []\n",
    "for _ in range(30):\n",
    "    msg = shift_right_1(msg)\n",
    "    msg_enc.append(msg)\n",
    "print(msg_enc)\n"
   ]
  },
  {
   "cell_type": "markdown",
   "id": "2a9680ae",
   "metadata": {},
   "source": [
    "# Shift to the right"
   ]
  },
  {
   "cell_type": "code",
   "execution_count": 6,
   "id": "34e3486a",
   "metadata": {},
   "outputs": [],
   "source": [
    "def shift(char_user):\n",
    "    # Use the letters array for comparison\n",
    "    # if character is not 'z', then the next\n",
    "    # index is (current index + 1)\n",
    "    # if character is 'z', then the next\n",
    "    # index is 'a'\n",
    "    \n",
    "    # first check if it is NOT a lowercase letter,\n",
    "    # if NOT lowercase, return the character unchanged\n",
    "    if char_user not in letters:\n",
    "        return char_user\n",
    "    # if it is a lowercase letters, then proceed to\n",
    "    # shift one char.\n",
    "    else:\n",
    "        next_index = 0\n",
    "        if char_user != 'z':\n",
    "            next_index = letters.index(char_user) + 1\n",
    "            return letters[next_index]\n",
    "        elif char_user == 'z':\n",
    "            return 'a'\n",
    "        else: # should be nothing here\n",
    "            pass"
   ]
  },
  {
   "cell_type": "code",
   "execution_count": 7,
   "id": "5dc21589",
   "metadata": {},
   "outputs": [
    {
     "name": "stdout",
     "output_type": "stream",
     "text": [
      "a: b\n",
      "H: H\n",
      "x: y\n",
      "y: z\n",
      "z: a\n",
      "1: 1\n",
      "!: !\n",
      "Original message: a\n",
      "['b', 'c', 'd']\n"
     ]
    }
   ],
   "source": [
    "# test\n",
    "print(f\"a: {shift('a')}\")\n",
    "print(f\"H: {shift('H')}\")\n",
    "print(f\"x: {shift('x')}\")\n",
    "print(f\"y: {shift('y')}\")\n",
    "print(f\"z: {shift('z')}\")\n",
    "print(f\"1: {shift('1')}\")\n",
    "print(f\"!: {shift('!')}\")\n",
    "# Test: message is 'a'\n",
    "# Shift 3 times\n",
    "msg = 'a' \n",
    "print(f\"Original message: {msg}\")\n",
    "msg_enc = []\n",
    "for _ in range(3):\n",
    "    msg = shift_right_1(msg)\n",
    "    msg_enc.append(msg)\n",
    "print(msg_enc)\n",
    "\n"
   ]
  },
  {
   "cell_type": "code",
   "execution_count": 8,
   "id": "96f10186",
   "metadata": {},
   "outputs": [
    {
     "name": "stdout",
     "output_type": "stream",
     "text": [
      "['a', 'b', 'c', 'z']\n",
      "['b', 'c', 'd', 'a']\n",
      "bcda\n"
     ]
    }
   ],
   "source": [
    "# test a string\n",
    "msg_list = list('abcz')\n",
    "print(msg_list)\n",
    "enc_list = []\n",
    "# shift one time\n",
    "for i in msg_list:\n",
    "    enc_list.append(shift(i))\n",
    "\n",
    "print(enc_list)\n",
    "print(\"\".join(enc_list))"
   ]
  },
  {
   "cell_type": "markdown",
   "id": "3c403f94",
   "metadata": {},
   "source": [
    "# Encryption"
   ]
  },
  {
   "cell_type": "code",
   "execution_count": null,
   "id": "de0e1a64",
   "metadata": {},
   "outputs": [],
   "source": [
    "# encrypting the message\n",
    "def encrypt(message, positions):\n",
    "    msg_list = list(message)\n",
    "    enc_list = []\n",
    "    for x in msg_list:\n",
    "        # must have a temp to hold the \n",
    "        # starting characters.\n",
    "        # then shift character one by one\n",
    "        temp_enc = x\n",
    "        for i in range(positions):\n",
    "            # get the shifted \n",
    "            temp_enc = shift(temp_enc)\n",
    "        # this is the final shifted positions\n",
    "        enc_list.append(temp_enc)\n",
    "    # return the result\n",
    "    enc_str = \"\".join(enc_list)\n",
    "    # Write encrypted message to a file\n",
    "    with open(\"encrypted.txt\", \"w\") as f:\n",
    "        f.write(enc_str)\n",
    "    return enc_str\n"
   ]
  },
  {
   "cell_type": "code",
   "execution_count": 30,
   "id": "3e11ec62",
   "metadata": {},
   "outputs": [
    {
     "name": "stdout",
     "output_type": "stream",
     "text": [
      "b\n",
      "c\n",
      "d\n",
      "a\n",
      "b\n",
      "c\n"
     ]
    }
   ],
   "source": [
    "# test\n",
    "print(encrypt(\"a\", 1))\n",
    "print(encrypt(\"a\", 2))\n",
    "print(encrypt(\"a\", 3))\n",
    "print(encrypt(\"z\", 1))\n",
    "print(encrypt(\"z\", 2))\n",
    "print(encrypt(\"z\", 3))"
   ]
  },
  {
   "cell_type": "markdown",
   "id": "54e347d8",
   "metadata": {},
   "source": [
    "# Get message"
   ]
  },
  {
   "cell_type": "code",
   "execution_count": 10,
   "id": "c008cae3",
   "metadata": {},
   "outputs": [],
   "source": [
    "# Task 5.2\n",
    "def get_message():\n",
    "    global msg # only used in testing\n",
    "    msg = \"\"\n",
    "    global pos # only used in testing\n",
    "    pos = 0\n",
    "    # check if positions is a positive number\n",
    "    while True:\n",
    "        m = input(\"Message to be encrypted \")\n",
    "        msg = str(m)\n",
    "        if len(msg)==0:\n",
    "            continue\n",
    "        pos = int(input(\"Number of positions to shift: \"))\n",
    "        if pos < 0:\n",
    "            print(\"Input a positive number greater than 0, e.g. 3\")\n",
    "            continue\n",
    "        else:\n",
    "            break\n",
    "\n",
    "    print(msg)\n",
    "    print(pos)\n",
    "    \n",
    "    return msg, pos\n"
   ]
  },
  {
   "cell_type": "code",
   "execution_count": 11,
   "id": "0aa042b8",
   "metadata": {},
   "outputs": [],
   "source": [
    "#get_message()"
   ]
  },
  {
   "cell_type": "code",
   "execution_count": 12,
   "id": "d51a2b6d",
   "metadata": {},
   "outputs": [
    {
     "name": "stdout",
     "output_type": "stream",
     "text": [
      "bcd123!@#aaa\n"
     ]
    }
   ],
   "source": [
    "enc_msg = encrypt(\"abc123!@#zzz\", 1)\n",
    "print(enc_msg)"
   ]
  },
  {
   "cell_type": "markdown",
   "id": "4b0f71c6",
   "metadata": {},
   "source": [
    "# Shift to the left"
   ]
  },
  {
   "cell_type": "code",
   "execution_count": 13,
   "id": "e1015a88",
   "metadata": {},
   "outputs": [],
   "source": [
    "# shift_up()\n",
    "# This is the reverse of shift() above\n",
    "# a < b < ... y < z < a\n",
    "def shift_up(char_user):\n",
    "    # first check for lowercase, \n",
    "    # if it is NOT lowercase, return the\n",
    "    # char unchanged.\n",
    "    # if it is lowercase, do the following:\n",
    "    # if char is a, then it becomes 'z'\n",
    "    # for all other lowercase character\n",
    "    # the next_index is current_index - 1\n",
    "    if char_user not in letters:\n",
    "        return char_user\n",
    "    else:\n",
    "        if char_user != 'a':\n",
    "            next_index = letters.index(char_user) - 1\n",
    "            return letters[next_index]\n",
    "        elif char_user == 'a':\n",
    "            return 'z'\n",
    "        else: # should be nothing here\n",
    "            pass\n",
    "    "
   ]
  },
  {
   "cell_type": "markdown",
   "id": "7e42b7fb",
   "metadata": {},
   "source": [
    "# Decryption"
   ]
  },
  {
   "cell_type": "code",
   "execution_count": null,
   "id": "1eccd4c0",
   "metadata": {},
   "outputs": [],
   "source": [
    "# decrypt the message\n",
    "def decrypt(ciphertext, positions):\n",
    "    cipher_list = list(ciphertext)\n",
    "    plain_list = []\n",
    "    for x in cipher_list:\n",
    "        # must have the temp character to\n",
    "        # hold the start character.\n",
    "        temp_text = x\n",
    "        for i in range(positions):\n",
    "            # shift the position one by one\n",
    "            temp_text = shift_up(temp_text)\n",
    "        # this is the final shifted pos\n",
    "        plain_list.append(temp_text)\n",
    "    # return the result\n",
    "    plaintext = \"\".join(plain_list)\n",
    "    return plaintext"
   ]
  },
  {
   "cell_type": "code",
   "execution_count": 32,
   "id": "d54ad3a4",
   "metadata": {},
   "outputs": [
    {
     "name": "stdout",
     "output_type": "stream",
     "text": [
      "y\n",
      "x\n",
      "w\n",
      "z\n",
      "y\n",
      "x\n"
     ]
    }
   ],
   "source": [
    "# test\n",
    "print(decrypt(\"z\", 1))\n",
    "print(decrypt(\"z\", 2))\n",
    "print(decrypt(\"z\", 3))\n",
    "print(decrypt(\"a\", 1))\n",
    "print(decrypt(\"a\", 2))\n",
    "print(decrypt(\"a\", 3))"
   ]
  },
  {
   "cell_type": "code",
   "execution_count": 33,
   "id": "5d6c2e91",
   "metadata": {},
   "outputs": [
    {
     "name": "stdout",
     "output_type": "stream",
     "text": [
      "abc123xyz!@#\n",
      "bcd123yza!@#\n",
      "abc123xyz!@#\n"
     ]
    }
   ],
   "source": [
    "# test\n",
    "input_message = \"abc123xyz!@#\"\n",
    "e = encrypt(input_message, 1)\n",
    "d = decrypt(e, 1)\n",
    "print(input_message)\n",
    "print(e)\n",
    "print(d)\n"
   ]
  },
  {
   "cell_type": "code",
   "execution_count": 34,
   "id": "8e8822dc",
   "metadata": {},
   "outputs": [
    {
     "name": "stdout",
     "output_type": "stream",
     "text": [
      "abc123!@#zzz\n"
     ]
    }
   ],
   "source": [
    "# test\n",
    "plaintext = decrypt(\"bcd123!@#aaa\", 1)\n",
    "print(plaintext)"
   ]
  },
  {
   "cell_type": "code",
   "execution_count": 35,
   "id": "7cd511bf",
   "metadata": {},
   "outputs": [],
   "source": [
    "# Ask for user choice of encryption\n",
    "# or decryption\n",
    "\n",
    "def menu_choice():\n",
    "    choice_list = ['E', 'D', 'Q']\n",
    "    input_choice = input(\"Enter 'E' to encrypt, 'D' to decrypt, 'Q' to quit\")\n",
    "    # case-insensitive\n",
    "    input_choice = input_choice.upper()\n",
    "    print(f\"Input choice: {input_choice}\")\n",
    "    while input_choice not in choice_list:\n",
    "        input_choice = input(\"Enter 'E' to encrypt, 'D' to decrypt, 'Q' to quit\")\n",
    "        input_choice = input_choice.upper()\n",
    "        print(f\"You choice: {input_choice}\")\n",
    "    \n",
    "    if input_choice == 'Q':\n",
    "        pass\n",
    "    elif input_choice in ['E', 'D']:\n",
    "        # Now, we the choice of E or D.\n",
    "        # # Get the user message\n",
    "        user_msg, shift_positions = get_message()\n",
    "        # switch\n",
    "        plaintext = \"\"\n",
    "        encrypted_text = \"\"\n",
    "        match input_choice:\n",
    "            case 'E':\n",
    "                encrypted_text = encrypt(user_msg, shift_positions)\n",
    "                print(f\"Encrypted text: \\n{encrypted_text}\")\n",
    "            case 'D':\n",
    "                plaintext = decrypt(user_msg, shift_positions)\n",
    "                print(f\"Decrypted plaintext: \\n{plaintext}\")\n",
    "            case _: # default\n",
    "                pass\n",
    "\n"
   ]
  },
  {
   "cell_type": "code",
   "execution_count": 36,
   "id": "9572472e",
   "metadata": {},
   "outputs": [
    {
     "name": "stdout",
     "output_type": "stream",
     "text": [
      "Input choice: E\n",
      "a\n",
      "5\n",
      "Encrypted text: \n",
      "f\n"
     ]
    }
   ],
   "source": [
    "menu_choice()"
   ]
  },
  {
   "cell_type": "code",
   "execution_count": 37,
   "id": "2a316a20",
   "metadata": {},
   "outputs": [
    {
     "name": "stdout",
     "output_type": "stream",
     "text": [
      "Input choice: D\n",
      "f\n",
      "5\n",
      "Decrypted plaintext: \n",
      "a\n"
     ]
    }
   ],
   "source": [
    "menu_choice()"
   ]
  },
  {
   "cell_type": "code",
   "execution_count": 40,
   "id": "313162d1",
   "metadata": {},
   "outputs": [],
   "source": [
    "# test\n",
    "def test_cases(test_input, test_positions):\n",
    "    print(f\"Input: {test_input}\")\n",
    "    encrypted_message = encrypt(test_input, test_positions)\n",
    "    print(f\"Ecrypted: {encrypted_message}\")\n",
    "    plaintext = decrypt(encrypted_message, test_positions)\n",
    "    print(f\"Decrypted: {plaintext}\\n\")"
   ]
  },
  {
   "cell_type": "code",
   "execution_count": 41,
   "id": "f79850f1",
   "metadata": {},
   "outputs": [
    {
     "name": "stdout",
     "output_type": "stream",
     "text": [
      "Input: E\n",
      "Ecrypted: E\n",
      "Decrypted: E\n",
      "\n",
      "Input: a\n",
      "Ecrypted: d\n",
      "Decrypted: a\n",
      "\n",
      "Input: z\n",
      "Ecrypted: c\n",
      "Decrypted: z\n",
      "\n",
      "Input: This is the seCret me55age!\n",
      "Ecrypted: Tklv lv wkh vhCuhw ph55djh!\n",
      "Decrypted: This is the seCret me55age!\n",
      "\n",
      "Input: -1\n",
      "Ecrypted: -1\n",
      "Decrypted: -1\n",
      "\n",
      "Input: 12\n",
      "Ecrypted: 12\n",
      "Decrypted: 12\n",
      "\n"
     ]
    }
   ],
   "source": [
    "test_cases(\"E\", 1)\n",
    "test_cases(\"a\", 3)\n",
    "test_cases(\"z\", 3)\n",
    "test_cases(\"This is the seCret me55age!\", 3)\n",
    "test_cases(\"-1\", 3)\n",
    "test_cases(\"12\", 5)"
   ]
  },
  {
   "cell_type": "code",
   "execution_count": null,
   "id": "b3770704",
   "metadata": {},
   "outputs": [],
   "source": []
  }
 ],
 "metadata": {
  "kernelspec": {
   "display_name": "Python 3",
   "language": "python",
   "name": "python3"
  },
  "language_info": {
   "codemirror_mode": {
    "name": "ipython",
    "version": 3
   },
   "file_extension": ".py",
   "mimetype": "text/x-python",
   "name": "python",
   "nbconvert_exporter": "python",
   "pygments_lexer": "ipython3",
   "version": "3.11.13"
  }
 },
 "nbformat": 4,
 "nbformat_minor": 5
}
