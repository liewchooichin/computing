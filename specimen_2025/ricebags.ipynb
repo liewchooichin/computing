{
 "cells": [
  {
   "cell_type": "markdown",
   "id": "595ddee7",
   "metadata": {},
   "source": [
    "# Task 2"
   ]
  },
  {
   "cell_type": "code",
   "execution_count": null,
   "id": "5821c76c",
   "metadata": {},
   "outputs": [],
   "source": [
    "import random"
   ]
  },
  {
   "cell_type": "markdown",
   "id": "9ee90b2f",
   "metadata": {},
   "source": [
    "# Task 2.1"
   ]
  },
  {
   "cell_type": "code",
   "execution_count": 35,
   "id": "b0074dac",
   "metadata": {},
   "outputs": [
    {
     "name": "stdout",
     "output_type": "stream",
     "text": [
      "4.9 The bag or rice is the correct weight\n",
      "4.7 The bag of rice is underweight\n",
      "5.0 The bag or rice is the correct weight\n",
      "4.8 The bag of rice is underweight\n",
      "5.1 The bag of rice is overweight\n",
      "5.2 The bag of rice is overweight\n",
      "4.9 The bag or rice is the correct weight\n",
      "5.3 The bag of rice is overweight\n",
      "5.1 The bag or rice is the correct weight\n",
      "5.1 The bag or rice is the correct weight\n",
      "Total number of bags: 10\n",
      "Underweight bags: 2\n",
      "Overweight bags: 3\n"
     ]
    }
   ],
   "source": [
    "# Task 2.1\n",
    "# for only 10 bags of rice\n",
    "# Each bag of rice must be between 4.9 kg and 5.1 kg inclusive.abs\n",
    "upper_bound = 5.1\n",
    "lower_bound = 4.9\n",
    "\n",
    "def task21(user_input):\n",
    "    bags_rice = 10\n",
    "    # variables to keep track of count of\n",
    "    # bags that are overweight and underweight\n",
    "    count_under = 0\n",
    "    count_over = 0\n",
    "    count_correct = 0\n",
    "    # a list to hold user input\n",
    "    bags_list = [x for x in user_input]\n",
    "\n",
    "    # start the loop\n",
    "    # For task 2.1, range(10)\n",
    "    for count in range(bags_rice):\n",
    "        bag_weight = float(bags_list[count])\n",
    "        if bag_weight < lower_bound:\n",
    "            print(f\"{bag_weight:.1f} The bag of rice is underweight\")\n",
    "            count_under += 1\n",
    "        elif (bag_weight >= lower_bound) and (bag_weight <= upper_bound):\n",
    "            print(f\"{bag_weight:.1f} The bag or rice is the correct weight\")\n",
    "            count_correct += 1\n",
    "        elif bag_weight > upper_bound:\n",
    "            print(f\"{bag_weight:.1f} The bag of rice is overweight\")\n",
    "            count_over += 1\n",
    "    \n",
    "    # at the end of the program, output the number of bags that\n",
    "    # are underweight and overweight\n",
    "    # the number of all count must be equal to the len of the list\n",
    "    # of bags\n",
    "    assert count_under + count_over + count_correct == len(bags_list), \"Something wrong with the count\"\n",
    "    \n",
    "    print(f\"Total number of bags: {len(bags_list)}\")\n",
    "    print(f\"Underweight bags: {count_under}\")\n",
    "    print(f\"Overweight bags: {count_over}\")\n",
    "\n",
    "task21([random.uniform(lower_bound-0.2, upper_bound+0.2) for x in range(10)])"
   ]
  },
  {
   "cell_type": "markdown",
   "id": "c156639b",
   "metadata": {},
   "source": [
    "# Task 2.2"
   ]
  },
  {
   "cell_type": "code",
   "execution_count": 25,
   "id": "8eeb8efa",
   "metadata": {},
   "outputs": [
    {
     "name": "stdout",
     "output_type": "stream",
     "text": [
      "4.6 The bag of rice is underweight\n",
      "5.6 The bag of rice is overweight\n",
      "5.0 The bag or rice is the correct weight\n",
      "4.9 The bag or rice is the correct weight\n",
      "5.1 The bag or rice is the correct weight\n",
      "Total number of bags: 5\n",
      "Underweight bags: 1\n",
      "Overweight bags: 1\n",
      "Correct weight: 3\n"
     ]
    }
   ],
   "source": [
    "# Task 2.2\n",
    "# Edit the program so that it can work for any number of bags\n",
    "# Task 2.1\n",
    "# for only 10 bags of rice\n",
    "# Each bag of rice must be between 4.9 kg and 5.1 kg inclusive.abs\n",
    "\n",
    "# global variables\n",
    "upper_bound = 5.1\n",
    "lower_bound = 4.9\n",
    "\n",
    "# variables to keep track of count of\n",
    "# bags that are overweight and underweight\n",
    "count_under = 0\n",
    "count_over = 0\n",
    "count_correct = 0\n",
    "# a list to hold user input\n",
    "bags_list = []\n",
    "\n",
    "# start the loop\n",
    "# input any number of bags\n",
    "weight = input(\"Enter the weight of the bag of rice, or enter \\'Q\\' to quit\")\n",
    "while weight not in \"qQ\":\n",
    "    # try converting the number to float:\n",
    "    try:\n",
    "        w = float(weight)\n",
    "        bags_list.append(w)\n",
    "        # check the weight\n",
    "        if w < lower_bound:\n",
    "            print(f\"{w} The bag of rice is underweight\")\n",
    "            count_under += 1\n",
    "        elif (w >= lower_bound) and (w <= upper_bound):\n",
    "            print(f\"{w} The bag or rice is the correct weight\")\n",
    "            count_correct += 1\n",
    "        elif w > upper_bound:\n",
    "            print(f\"{w} The bag of rice is overweight\")\n",
    "            count_over += 1\n",
    "        # ask for the next input\n",
    "        weight = input(\"Next, or enter \\'Q\\' to quit\")\n",
    "    except ValueError:\n",
    "        print(\"Input a valid weight\")\n",
    "\n",
    "\n",
    "# at the end of the program, output the number of bags that\n",
    "# are underweight and overweight\n",
    "# the number of all couSnt must be equal to the len of the list\n",
    "# of bags\n",
    "assert count_under + count_over + count_correct == len(bags_list), \"Something wrong with the count\"\n",
    "\n",
    "print(f\"Total number of bags: {len(bags_list)}\")\n",
    "print(f\"Underweight bags: {count_under}\")\n",
    "print(f\"Overweight bags: {count_over}\")\n",
    "print(f\"Correct weight: {count_correct}\")\n"
   ]
  }
 ],
 "metadata": {
  "kernelspec": {
   "display_name": "Python 3",
   "language": "python",
   "name": "python3"
  },
  "language_info": {
   "codemirror_mode": {
    "name": "ipython",
    "version": 3
   },
   "file_extension": ".py",
   "mimetype": "text/x-python",
   "name": "python",
   "nbconvert_exporter": "python",
   "pygments_lexer": "ipython3",
   "version": "3.11.13"
  }
 },
 "nbformat": 4,
 "nbformat_minor": 5
}
