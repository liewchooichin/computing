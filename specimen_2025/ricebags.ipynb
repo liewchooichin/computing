{
 "cells": [
  {
   "cell_type": "markdown",
   "id": "595ddee7",
   "metadata": {},
   "source": [
    "# Task 2"
   ]
  },
  {
   "cell_type": "code",
   "execution_count": 15,
   "id": "b0074dac",
   "metadata": {},
   "outputs": [],
   "source": [
    "# Task 2.1\n",
    "# for only 10 bags of rice\n",
    "# Each bag of rice must be between 4.9 kg and 5.1 kg inclusive.abs\n",
    "\n",
    "def task21(bags_list):\n",
    "    bags_rice = 10\n",
    "    upper_bound = 5.1\n",
    "    lower_bound = 4.9\n",
    "    # variables to keep track of count of\n",
    "    # bags that are overweight and underweight\n",
    "    count_under = 0\n",
    "    count_over = 0\n",
    "    count_correct = 0\n",
    "    # start the loop\n",
    "    for count in range(bags_list):\n",
    "        bag_weight = float(bags_list[count])\n",
    "        if bag_weight < lower_bound:\n",
    "            print(\"The bag of rice is underweight\")\n",
    "            count_under += 1\n",
    "        elif (bag_weight <= lower_bound) and (bag_weight >= upper_bound):\n",
    "            print(\"The bag or rice is the correct weight\")\n",
    "            count_correct += 1\n",
    "        elif bag_weight > upper_bound:\n",
    "            print(\"The bag of rice is underweight\")\n",
    "            count_over += 1\n",
    "    \n",
    "    # at the end of the program, output the number of bags that\n",
    "    # are underweight and overweight\n",
    "    # the number of all count must be equal to the len of the list\n",
    "    # of bags\n",
    "    assert count_under + count_over + count_correct == len(bags_list), \"Something wrong with the count\"\n",
    "    \n",
    "    print(f\"Underweight bags: {count_under}\")\n",
    "    print(f\"Overweight bags: {count_over}\")"
   ]
  },
  {
   "cell_type": "code",
   "execution_count": 16,
   "id": "878e8007",
   "metadata": {},
   "outputs": [
    {
     "ename": "TypeError",
     "evalue": "'list' object cannot be interpreted as an integer",
     "output_type": "error",
     "traceback": [
      "\u001b[31m---------------------------------------------------------------------------\u001b[39m",
      "\u001b[31mTypeError\u001b[39m                                 Traceback (most recent call last)",
      "\u001b[36mCell\u001b[39m\u001b[36m \u001b[39m\u001b[32mIn[16]\u001b[39m\u001b[32m, line 1\u001b[39m\n\u001b[32m----> \u001b[39m\u001b[32m1\u001b[39m \u001b[43mtask21\u001b[49m\u001b[43m(\u001b[49m\u001b[43m[\u001b[49m\u001b[32;43m4.8\u001b[39;49m\u001b[43m,\u001b[49m\u001b[43m \u001b[49m\u001b[32;43m4.9\u001b[39;49m\u001b[43m,\u001b[49m\u001b[43m \u001b[49m\u001b[32;43m4.9\u001b[39;49m\u001b[43m,\u001b[49m\u001b[43m \u001b[49m\u001b[32;43m5.0\u001b[39;49m\u001b[43m,\u001b[49m\u001b[43m \u001b[49m\u001b[32;43m5.1\u001b[39;49m\u001b[43m,\u001b[49m\u001b[43m \u001b[49m\u001b[32;43m5.2\u001b[39;49m\u001b[43m]\u001b[49m\u001b[43m)\u001b[49m\n",
      "\u001b[36mCell\u001b[39m\u001b[36m \u001b[39m\u001b[32mIn[15]\u001b[39m\u001b[32m, line 15\u001b[39m, in \u001b[36mtask21\u001b[39m\u001b[34m(bags_list)\u001b[39m\n\u001b[32m     13\u001b[39m count_correct = \u001b[32m0\u001b[39m\n\u001b[32m     14\u001b[39m \u001b[38;5;66;03m# start the loop\u001b[39;00m\n\u001b[32m---> \u001b[39m\u001b[32m15\u001b[39m \u001b[38;5;28;01mfor\u001b[39;00m count \u001b[38;5;129;01min\u001b[39;00m \u001b[38;5;28;43mrange\u001b[39;49m\u001b[43m(\u001b[49m\u001b[43mbags_list\u001b[49m\u001b[43m)\u001b[49m:\n\u001b[32m     16\u001b[39m     bag_weight = \u001b[38;5;28mfloat\u001b[39m(bags_list[count])\n\u001b[32m     17\u001b[39m     \u001b[38;5;28;01mif\u001b[39;00m bag_weight < lower_bound:\n",
      "\u001b[31mTypeError\u001b[39m: 'list' object cannot be interpreted as an integer"
     ]
    }
   ],
   "source": [
    "task21([4.8, 4.9, 4.9, 5.0, 5.1, 5.2])"
   ]
  },
  {
   "cell_type": "code",
   "execution_count": null,
   "metadata": {},
   "outputs": [],
   "source": []
  },
  {
   "cell_type": "code",
   "execution_count": null,
   "id": "87d32ae4",
   "metadata": {},
   "outputs": [],
   "source": [
    "import unittest\n",
    "\n",
    "cla"
   ]
  }
 ],
 "metadata": {
  "language_info": {
   "name": "python"
  }
 },
 "nbformat": 4,
 "nbformat_minor": 5
}
