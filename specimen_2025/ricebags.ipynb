{
 "cells": [
  {
   "cell_type": "markdown",
   "id": "595ddee7",
   "metadata": {},
   "source": [
    "# Task 2"
   ]
  },
  {
   "cell_type": "code",
   "execution_count": null,
   "id": "b0074dac",
   "metadata": {},
   "outputs": [],
   "source": [
    "# Task 2.1\n",
    "# for only 10 bags of rice\n",
    "# Each bag of rice must be between 4.9 kg and 5.1 kg inclusive.abs\n",
    "\n",
    "def task21(pseudo_input):\n",
    "    bags_rice = 10\n",
    "    upper_bound = 5.1\n",
    "    lower_bound = 4.9\n",
    "    # variables to keep track of count of\n",
    "    # bags that are overweight and underweight\n",
    "    count_under = 0\n",
    "    count_over = 0\n",
    "    count_correct = 0\n",
    "    # a list to hold user input\n",
    "    bags_list = [x for x in pseudo_input]\n",
    "\n",
    "    # start the loop\n",
    "    for count in range(10):\n",
    "        bag_weight = float(bags_list[count])\n",
    "        if bag_weight < lower_bound:\n",
    "            print(\"The bag of rice is underweight\")\n",
    "            count_under += 1\n",
    "        elif (bag_weight >= lower_bound) and (bag_weight <= upper_bound):\n",
    "            print(\"The bag or rice is the correct weight\")\n",
    "            count_correct += 1\n",
    "        elif bag_weight > upper_bound:\n",
    "            print(\"The bag of rice is underweight\")\n",
    "            count_over += 1\n",
    "    \n",
    "    # at the end of the program, output the number of bags that\n",
    "    # are underweight and overweight\n",
    "    # the number of all count must be equal to the len of the list\n",
    "    # of bags\n",
    "    assert count_under + count_over + count_correct == len(bags_list), \"Something wrong with the count\"\n",
    "    \n",
    "    print(f\"Total number of bags: {len(bags_list)}\")\n",
    "    print(f\"Underweight bags: {count_under}\")\n",
    "    print(f\"Overweight bags: {count_over}\")"
   ]
  },
  {
   "cell_type": "code",
   "execution_count": null,
   "id": "5821c76c",
   "metadata": {},
   "outputs": [],
   "source": [
    "import random"
   ]
  },
  {
   "cell_type": "code",
   "execution_count": null,
   "id": "878e8007",
   "metadata": {},
   "outputs": [
    {
     "name": "stdout",
     "output_type": "stream",
     "text": [
      "The bag of rice is underweight\n",
      "The bag or rice is the correct weight\n",
      "The bag or rice is the correct weight\n",
      "The bag or rice is the correct weight\n",
      "The bag or rice is the correct weight\n",
      "The bag of rice is underweight\n",
      "Total number of bags: 6\n",
      "Underweight bags: 1\n",
      "Overweight bags: 1\n"
     ]
    }
   ],
   "source": [
    "task21([rand(x)])"
   ]
  },
  {
   "cell_type": "markdown",
   "id": "c156639b",
   "metadata": {},
   "source": [
    "# Task 2.2"
   ]
  },
  {
   "cell_type": "code",
   "execution_count": null,
   "id": "8eeb8efa",
   "metadata": {},
   "outputs": [],
   "source": [
    "# Task 2.2\n",
    "# Edit the program so that it can work for any number of bags\n"
   ]
  }
 ],
 "metadata": {
  "kernelspec": {
   "display_name": "Python 3",
   "language": "python",
   "name": "python3"
  },
  "language_info": {
   "codemirror_mode": {
    "name": "ipython",
    "version": 3
   },
   "file_extension": ".py",
   "mimetype": "text/x-python",
   "name": "python",
   "nbconvert_exporter": "python",
   "pygments_lexer": "ipython3",
   "version": "3.11.13"
  }
 },
 "nbformat": 4,
 "nbformat_minor": 5
}
